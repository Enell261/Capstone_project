{
  "nbformat": 4,
  "nbformat_minor": 0,
  "metadata": {
    "colab": {
      "name": "Capstone Project.ipynb",
      "provenance": [],
      "authorship_tag": "ABX9TyP7ZgSvdzZ/T5Cuv3HmZ5N5",
      "include_colab_link": true
    },
    "kernelspec": {
      "name": "python3",
      "display_name": "Python 3"
    }
  },
  "cells": [
    {
      "cell_type": "markdown",
      "metadata": {
        "id": "view-in-github",
        "colab_type": "text"
      },
      "source": [
        "<a href=\"https://colab.research.google.com/github/Enell261/Capstone_project/blob/data/Capstone_Project.ipynb\" target=\"_parent\"><img src=\"https://colab.research.google.com/assets/colab-badge.svg\" alt=\"Open In Colab\"/></a>"
      ]
    },
    {
      "cell_type": "markdown",
      "metadata": {
        "id": "W5zmY3Xn60Q8"
      },
      "source": [
        "**INTRODUCTION**\r\n",
        "\r\n",
        "Pretoria East is the most vibrant district in the city of Pretoria, South Africa. It boasts a large student population owing to the fact that there are 3 universities within the district and numerous colleges. It is also home to a majority of the most affluent neighborhoods in the city. Accommodation for students that provides a safe and vibrant environment whilst offering access to public transport is notoriously scarce in the city.<br>\r\n",
        "New students often end up living in dangerous neighbourhoods that are far from campuses and do not offer places that enhance student life.<br>\r\n",
        "This project aims to cluster the neighborhoods in Pretoria East to help students find the ones that best serve their needs. The project will make use of the Foursquare API to obtain data on the various neighborhoods in the district. Specifically, the project will cluster student-friendly neighbourhoods together so as to suggest these to students seeking accomodation"
      ]
    },
    {
      "cell_type": "markdown",
      "metadata": {
        "id": "1wrSImbk9zad"
      },
      "source": [
        "**DATA**\r\n",
        "\r\n",
        "The data used in the project includes a Wikipedia list of all surbubs in Pretoria East and Foursquare data corresponding to each of the surbubs in the list. The Foursquare data will be procured using their API for which we have a developer account. The data will come in the standard Foursquare format"
      ]
    },
    {
      "cell_type": "code",
      "metadata": {
        "id": "tDoDl3Uu-bMC"
      },
      "source": [
        ""
      ],
      "execution_count": null,
      "outputs": []
    }
  ]
}